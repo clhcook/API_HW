{
 "cells": [
  {
   "cell_type": "markdown",
   "metadata": {},
   "source": [
    "# WeatherPy\n",
    "----\n",
    "\n",
    "### Analysis\n",
    "* As expected, the weather becomes significantly warmer as one approaches the equator (0 Deg. Latitude). More interestingly, however, is the fact that the southern hemisphere tends to be warmer this time of year than the northern hemisphere. This may be due to the tilt of the earth.\n",
    "* There is no strong relationship between latitude and cloudiness. However, it is interesting to see that a strong band of cities sits at 0, 80, and 100% cloudiness.\n",
    "* There is no strong relationship between latitude and wind speed. However, in northern hemispheres there is a flurry of cities with over 20 mph of wind.\n",
    "\n",
    "---\n",
    "\n",
    "#### Note\n",
    "* Instructions have been included for each segment. You do not have to follow them exactly, but they are included to help you think through the steps."
   ]
  },
  {
   "cell_type": "code",
   "execution_count": 2,
   "metadata": {
    "collapsed": true,
    "scrolled": true
   },
   "outputs": [],
   "source": [
    "# Dependencies and Setup\n",
    "import matplotlib.pyplot as plt\n",
    "import pandas as pd\n",
    "import numpy as np\n",
    "import requests\n",
    "import time\n",
    "\n",
    "\n",
    "\n",
    "\n",
    "\n",
    "# Import API key\n",
    "from api_keys import api_key\n",
    "\n",
    "# Incorporated citipy to determine city based on latitude and longitude\n",
    "from citipy import citipy\n",
    "\n",
    "# Output File (CSV)\n",
    "output_data_file = \"output_data/cities.csv\"\n",
    "\n",
    "# Range of latitudes and longitudes\n",
    "lat_range = (-90, 90)\n",
    "lng_range = (-180, 180)"
   ]
  },
  {
   "cell_type": "markdown",
   "metadata": {},
   "source": [
    "## Generate Cities List"
   ]
  },
  {
   "cell_type": "code",
   "execution_count": 3,
   "metadata": {},
   "outputs": [
    {
     "data": {
      "text/plain": [
       "627"
      ]
     },
     "execution_count": 3,
     "metadata": {},
     "output_type": "execute_result"
    }
   ],
   "source": [
    "# List for holding lat_lngs and cities\n",
    "lat_lngs = []\n",
    "cities = []\n",
    "\n",
    "# Create a set of random lat and lng combinations\n",
    "lats = np.random.uniform(low=-90.000, high=90.000, size=1500)\n",
    "lngs = np.random.uniform(low=-180.000, high=180.000, size=1500)\n",
    "lat_lngs = zip(lats, lngs)\n",
    "\n",
    "# Identify nearest city for each lat, lng combination\n",
    "for lat_lng in lat_lngs:\n",
    "    city = citipy.nearest_city(lat_lng[0], lat_lng[1]).city_name\n",
    "    \n",
    "    # If the city is unique, then add it to a our cities list\n",
    "    if city not in cities:\n",
    "        cities.append(city)\n",
    "\n",
    "# Print the city count to confirm sufficient count\n",
    "len(cities)"
   ]
  },
  {
   "cell_type": "code",
   "execution_count": 4,
   "metadata": {},
   "outputs": [
    {
     "name": "stdout",
     "output_type": "stream",
     "text": [
      "['sao joao da barra', 'mandalgovi', 'egvekinot', 'basco', 'ancud', 'ribeira grande', 'rikitea', 'hariana', 'albany', 'rorvik', 'ilulissat', 'saint-philippe', 'jamestown', 'teguldet', 'port alfred', 'ahipara', 'mataura', 'kamenka', 'tiksi', 'vaitupu', 'taolanaro', 'punta arenas', 'petropavlovsk-kamchatskiy', 'tuktoyaktuk', 'lebu', 'hobart', 'norman wells', 'vikhorevka', 'morondava', 'saskylakh', 'west bay', 'qaanaaq', 'saryshagan', 'anadyr', 'caravelas', 'puerto ayora', 'razole', 'busselton', 'sol-iletsk', 'paso de carrasco', 'alofi', 'hualmay', 'castro', 'tuatapere', 'ola', 'tumannyy', 'kavieng', 'san lorenzo', 'tasiilaq', 'oktyabrskoye', 'mnogovershinnyy', 'berlevag', 'atar', 'iqaluit', 'east london', 'mar del plata', 'lensk', 'alekseyevskaya', 'khatanga', 'pundaguitan', 'bredasdorp', 'umzimvubu', 'vaini', 'norilsk', 'qui nhon', 'ushuaia', 'tiznit', 'savonlinna', 'butaritari', 'avera', 'kapaa', 'forbes', 'carbonia', 'nova londrina', 'nabire', 'walvis bay', 'ramos arizpe', 'cape town', 'mys shmidta', 'gainesville', 'kontagora', 'attawapiskat', 'berbera', 'korla', 'severo-kurilsk', 'broome', 'viedma', 'poya', 'dickson', 'huarmey', 'port elizabeth', 'narsaq', 'aklavik', 'umm lajj', 'kaitangata', 'nishihara', 'satana', 'havoysund', 'atuona', 'atambua', 'bethel', 'hilo', 'hermanus', 'husavik', 'oranjemund', 'jamkhed', 'kirakira', 'taraz', 'kahului', 'georgetown', 'tomari', 'chuy', 'vostok', 'luderitz', 'lagoa', 'la ronge', 'grand gaube', 'hambantota', 'gat', 'amderma', 'meulaboh', 'sisimiut', 'kysyl-syr', 'port-cartier', 'barentsburg', 'mbandaka', 'escanaba', 'urdzhar', 'honiara', 'crab hill', 'trujillo', 'grand river south east', 'mayo', 'ganzhou', 'tromso', 'boguchany', 'sabinas', 'sao filipe', 'barrow', 'pulandian', 'solnechnyy', 'torbay', 'nizhneyansk', 'bata', 'terrak', 'lakes entrance', 'gigmoto', 'faanui', 'yaransk', 'hobyo', 'beloha', 'monterey', 'sitka', 'kodiak', 'port augusta', 'guajara-mirim', 'muros', 'store heddinge', 'new norfolk', 'port-gentil', 'billings', 'saint-pierre', 'illoqqortoormiut', 'tsihombe', 'fare', 'san cristobal', 'kabare', 'riviere-au-renard', 'ambilobe', 'carauari', 'lady frere', 'svetlaya', 'veraval', 'humberto de campos', 'upernavik', 'victoria', 'nioaque', 'fazalpur', 'sataua', 'balsas', 'carnarvon', 'neuquen', 'izvestkovyy', 'vilhena', 'mocuba', 'provideniya', 'rancho palos verdes', 'straumen', 'churapcha', 'port hardy', 'geraldton', 'pevek', 'bubaque', 'pacific grove', 'saint anthony', 'olovyannaya', 'aflu', 'westport', 'normandin', 'bilibino', 'comodoro rivadavia', 'otane', 'mahebourg', 'jiamusi', 'saldanha', 'north bend', 'emba', 'antofagasta', 'korhogo', 'sayyan', 'cabo san lucas', 'lexington', 'parry sound', 'ponta do sol', 'itarema', 'college', 'nizwa', 'san jeronimo', 'constitucion', 'boffa', 'komsomolskiy', 'morehead', 'rawson', 'bluff', 'bambous virieux', 'odesskoye', 'siilinjarvi', 'sanming', 'panguna', 'poum', 'san patricio', 'ulverstone', 'gusau', 'kruisfontein', 'belushya guba', 'clyde river', 'ayr', 'kalpi', 'katsuura', 'balurghat', 'port macquarie', 'hasaki', 'port blair', 'matagami', 'namtsy', 'pangnirtung', 'avarua', 'iskateley', 'los llanos de aridane', 'alghero', 'thompson', 'lorengau', 'yellowknife', 'kjollefjord', 'bac lieu', 'san quintin', 'beringovskiy', 'chokurdakh', 'bengkulu', 'hamilton', 'airai', 'san rafael', 'warqla', 'ponnani', 'klaksvik', 'solovetskiy', 'wattegama', 'volksrust', 'akureyri', 'karkaralinsk', 'kholodnyy', 'shadrinsk', 'minnedosa', 'nezhinka', 'arraial do cabo', 'batemans bay', 'camacha', 'haines junction', 'padang', 'khandyga', 'bilma', 'lata', 'zhitikara', 'ketchenery', 'santa lucia', 'hue', 'dawlatabad', 'flin flon', 'smidovich', 'vila franca do campo', 'caledon east', 'tabukiniberu', 'pangai', 'kuytun', 'sur', 'vardo', 'dubbo', 'malmo', 'coahuayana', 'kaduy', 'dukat', 'samalaeulu', 'cherskiy', 'waipawa', 'brae', 'namibe', 'viligili', 'revelstoke', 'san miguel', 'abu samrah', 'rungata', 'tessalit', 'baicheng', 'kinsale', 'mackay', 'lavrentiya', 'mount gambier', 'barraute', 'tura', 'ayan', 'dangriga', 'loandjili', 'taltal', 'saint george', 'shimoda', 'lasa', 'kudahuvadhoo', 'pisco', 'disna', 'homer', 'nefteyugansk', 'bandarbeyla', 'cidreira', 'souillac', 'shchuchye', 'quthing', 'asosa', 'geelong', 'urusha', 'granadilla de abona', 'marystown', 'mazamari', 'bukachacha', 'loukhi', 'chama', 'mogadishu', 'porto velho', 'kagalnik', 'minsk', 'sioux lookout', 'kloulklubed', 'mikhaylovskoye', 'kothapet', 'kununurra', 'jalpan', 'jumla', 'codrington', 'hithadhoo', 'topolobampo', 'talawdi', 'drezdenko', 'farah', 'longyearbyen', 'namatanai', 'abu jubayhah', 'trairi', 'botwood', 'naze', 'shache', 'tara', 'chelyabinsk-40', 'gunjur', 'diamantino', 'khonuu', 'kungurtug', 'daura', 'kasempa', 'ponta delgada', 'jalu', 'muroto', 'te anau', 'vetlanda', 'durango', 'klodzko', 'borba', 'touros', 'opunake', 'kautokeino', 'weirton', 'champerico', 'masuguru', 'loncoche', 'tacuarembo', 'yambio', 'laguna', 'springbok', 'choix', 'samusu', 'bugama', 'uyuni', 'tabuk', 'satitoa', 'batagay-alyta', 'ntungamo', 'fort saint john', 'halalo', 'chikitigarh', 'suzdal', 'tautira', 'kerki', 'hatillo', 'damavand', 'saleaula', 'grand-santi', 'marawi', 'opuwo', 'puyang', 'najran', 'kijang', 'buraydah', 'evensk', 'barra do corda', 'bargal', 'stoyba', 'vila velha', 'san carlos', 'qianan', 'navolato', 'arvika', 'siderno', 'ouango', 'turbat', 'palana', 'baisha', 'coquimbo', 'okhotsk', 'garm', 'okha', 'akhmim', 'caraballeda', 'kozluk', 'puerto colombia', 'kirchhain', 'edmonds', 'high rock', 'kilindoni', 'iberia', 'nikolskoye', 'tubruq', 'chandrakona', 'vao', 'bemidji', 'cabedelo', 'fairbanks', 'tanete', 'dikson', 'manyana', 'omsukchan', 'krasnopillya', 'lashio', 'hachinohe', 'guerrero negro', 'peniche', 'lolua', 'margate', 'aksu', 'salalah', 'zverinogolovskoye', 'kimbe', 'trat', 'leningradskiy', 'petropavlovka', 'dospat', 'tezpur', 'baruun-urt', 'benjamin constant', 'san luis obispo', 'sangueya', 'olinda', 'sinnamary', 'aktau', 'pangkalanbuun', 'assiniboia', 'kokstad', 'at-bashi', 'lewisporte', 'negara', 'buenavista', 'aracuai', 'issoire', 'zvishavane', 'sterling', 'alyangula', 'karratha', 'tombouctou', 'kinanah', 'kang', 'cottbus', 'saint-joseph', 'xianyang', 'marsa matruh', 'cedar rapids', 'arlit', 'thinadhoo', 'lakeway', 'douglas', 'ketchikan', 'manati', 'nanortalik', 'tammisaari', 'broken hill', 'manggar', 'dosso', 'nouakchott', 'poltavka', 'vila do maio', 'nanga eboko', 'lima', 'virginia beach', 'porbandar', 'inirida', 'hirara', 'khopoli', 'arkhangelsk', 'kamaris', 'yaounde', 'kurilsk', 'sinjah', 'tezu', 'vaasa', 'isla mujeres', 'san jose', 'tankara', 'shakawe', 'tucumcari', 'lompoc', 'marijampole', 'karpogory', 'sofiysk', 'port washington', 'jacksonville', 'awbari', 'santa cruz de tenerife', 'bonavista', 'bur gabo', 'banjar', 'stephenville', 'goianesia', 'xining', 'cozumel', 'longonjo', 'donegal', 'harper', 'athens', 'prince rupert', 'makakilo city', 'nekrasovskoye', 'abha', 'jawhar', 'nirmal', 'nipani', 'asau', 'wanning', 'elmira', 'bolungarvik', 'alenquer', 'aswan', 'sijunjung', 'lahat', 'tocopilla', 'mae hong son', 'labuan', 'desterro', 'arcata', 'chimoio', 'mwinilunga', 'alice springs', 'nyurba', 'pringsewu', 'listvyagi', 'ulladulla', 'myitkyina', 'matamoros', 'gayeri', 'chebsara', 'cheremshan', 'general pico', 'araguatins', 'half moon bay', 'san isidro', 'meadow lake', 'esmeraldas', 'kharp', 'gushikawa', 'bar harbor', 'dengzhou', 'zabol', 'nemuro', 'malakal', 'iznoski', 'boende', 'verkhozim', 'yaan', 'buchanan', 'heihe', 'usinsk', 'birin', 'kodinsk', 'port hedland', 'moerai', 'gamba', 'mocambique', 'coos bay', 'adrar', 'arrecife', 'esperance', 'balagansk', 'san ramon de la nueva oran', 'sovetskoye', 'vasterhaninge', 'haibowan', 'cuamba', 'dauriya', 'santa maria', 'parrita', 'ovruch', 'aasiaat']\n"
     ]
    }
   ],
   "source": [
    "print(cities)"
   ]
  },
  {
   "cell_type": "markdown",
   "metadata": {},
   "source": [
    "### Perform API Calls\n",
    "* Perform a weather check on each city using a series of successive API calls.\n",
    "* Include a print log of each city as it'sbeing processed (with the city number and city name).\n"
   ]
  },
  {
   "cell_type": "code",
   "execution_count": 5,
   "metadata": {
    "collapsed": true
   },
   "outputs": [],
   "source": [
    "# Save config information.\n",
    "url = \"http://api.openweathermap.org/data/2.5/weather?\"\n",
    "units = \"imperial\"\n",
    "\n",
    "# Build partial query URL\n",
    "query_url = f\"{url}appid={api_key}&units={units}&q=\""
   ]
  },
  {
   "cell_type": "code",
   "execution_count": 6,
   "metadata": {},
   "outputs": [
    {
     "name": "stdout",
     "output_type": "stream",
     "text": [
      "http://api.openweathermap.org/data/2.5/weather?appid=a85d3d4e8611903d22f50c4e21dd61a2&units=imperial&q=\n"
     ]
    }
   ],
   "source": [
    "print(query_url)"
   ]
  },
  {
   "cell_type": "code",
   "execution_count": 7,
   "metadata": {
    "collapsed": true
   },
   "outputs": [],
   "source": [
    "\n",
    "Cloudiness = []\n",
    "Country = [] \n",
    "Date = []\n",
    "Humidity = []   \n",
    "Lat = []         \n",
    "Lng = []  \n",
    "Max_Temp = []\n",
    "Wind_Speed = []\n",
    "\n",
    "\n",
    "\n",
    "\n",
    "\n",
    "  \n",
    "response = requests.get(query_url + \"sattenapalle\").json()\n",
    "Cloudiness.append(response['clouds']['all'])\n",
    "# Country.append(response['sys']['country'])\n",
    "# Date.append(response['dt'])\n",
    "# Humidity.append(response['main']['humidity'])\n",
    "# Lat.append(response['coord']['lat'])\n",
    "# Lng.append(response['coor']['lon'])\n",
    "# Max_Temp.append(response['main']['temp_max'])\n",
    "# Wind_Speed.append(response['wind']['speed'])\n",
    "   \n"
   ]
  },
  {
   "cell_type": "code",
   "execution_count": 8,
   "metadata": {
    "collapsed": true
   },
   "outputs": [],
   "source": [
    "Cloudiness = []\n",
    "Country = [] \n",
    "Date = []\n",
    "Humidity = []   \n",
    "Lat = []         \n",
    "Lng = []  \n",
    "Max_Temp = []\n",
    "Wind_Speed = []\n",
    "Cities_Present = []\n",
    "\n",
    "\n",
    "\n",
    "\n",
    "for city in cities:\n",
    "    try:\n",
    "        response = requests.get(query_url + city).json()\n",
    "        Cloudiness.append(response['clouds']['all'])\n",
    "        Country.append(response['sys']['country'])\n",
    "        Date.append(response['dt'])\n",
    "        Humidity.append(response['main']['humidity'])\n",
    "        Lat.append(response['coord']['lat'])\n",
    "        Lng.append(response['coord']['lon'])\n",
    "        Max_Temp.append(response['main']['temp_max'])\n",
    "        Wind_Speed.append(response['wind']['speed'])\n",
    "        Cities_Present.append(city)\n",
    "    except:\n",
    "        pass\n",
    "\n"
   ]
  },
  {
   "cell_type": "code",
   "execution_count": 9,
   "metadata": {},
   "outputs": [
    {
     "name": "stdout",
     "output_type": "stream",
     "text": [
      "[13.87, 12.57, 11.01, 3.36, 7.65]\n"
     ]
    }
   ],
   "source": [
    "print(Wind_Speed[:5])"
   ]
  },
  {
   "cell_type": "code",
   "execution_count": 11,
   "metadata": {},
   "outputs": [
    {
     "data": {
      "text/html": [
       "<div>\n",
       "<style>\n",
       "    .dataframe thead tr:only-child th {\n",
       "        text-align: right;\n",
       "    }\n",
       "\n",
       "    .dataframe thead th {\n",
       "        text-align: left;\n",
       "    }\n",
       "\n",
       "    .dataframe tbody tr th {\n",
       "        vertical-align: top;\n",
       "    }\n",
       "</style>\n",
       "<table border=\"1\" class=\"dataframe\">\n",
       "  <thead>\n",
       "    <tr style=\"text-align: right;\">\n",
       "      <th></th>\n",
       "      <th>City</th>\n",
       "      <th>Cloudiness</th>\n",
       "      <th>Country</th>\n",
       "      <th>Date</th>\n",
       "      <th>Humidity</th>\n",
       "      <th>Lat</th>\n",
       "      <th>Lng</th>\n",
       "      <th>Max_Temp</th>\n",
       "      <th>Wind_Speed</th>\n",
       "    </tr>\n",
       "  </thead>\n",
       "  <tbody>\n",
       "    <tr>\n",
       "      <th>0</th>\n",
       "      <td>sao joao da barra</td>\n",
       "      <td>40</td>\n",
       "      <td>BR</td>\n",
       "      <td>1538694000</td>\n",
       "      <td>78</td>\n",
       "      <td>-21.64</td>\n",
       "      <td>-41.05</td>\n",
       "      <td>77.00</td>\n",
       "      <td>13.87</td>\n",
       "    </tr>\n",
       "    <tr>\n",
       "      <th>1</th>\n",
       "      <td>mandalgovi</td>\n",
       "      <td>0</td>\n",
       "      <td>MN</td>\n",
       "      <td>1538698708</td>\n",
       "      <td>69</td>\n",
       "      <td>45.76</td>\n",
       "      <td>106.27</td>\n",
       "      <td>24.60</td>\n",
       "      <td>12.57</td>\n",
       "    </tr>\n",
       "    <tr>\n",
       "      <th>2</th>\n",
       "      <td>egvekinot</td>\n",
       "      <td>76</td>\n",
       "      <td>RU</td>\n",
       "      <td>1538698708</td>\n",
       "      <td>85</td>\n",
       "      <td>66.32</td>\n",
       "      <td>-179.17</td>\n",
       "      <td>41.25</td>\n",
       "      <td>11.01</td>\n",
       "    </tr>\n",
       "    <tr>\n",
       "      <th>3</th>\n",
       "      <td>basco</td>\n",
       "      <td>90</td>\n",
       "      <td>US</td>\n",
       "      <td>1538698500</td>\n",
       "      <td>67</td>\n",
       "      <td>40.33</td>\n",
       "      <td>-91.20</td>\n",
       "      <td>62.96</td>\n",
       "      <td>3.36</td>\n",
       "    </tr>\n",
       "    <tr>\n",
       "      <th>4</th>\n",
       "      <td>ancud</td>\n",
       "      <td>0</td>\n",
       "      <td>CL</td>\n",
       "      <td>1538698708</td>\n",
       "      <td>63</td>\n",
       "      <td>-41.87</td>\n",
       "      <td>-73.83</td>\n",
       "      <td>49.35</td>\n",
       "      <td>7.65</td>\n",
       "    </tr>\n",
       "  </tbody>\n",
       "</table>\n",
       "</div>"
      ],
      "text/plain": [
       "                City  Cloudiness Country        Date  Humidity    Lat     Lng  \\\n",
       "0  sao joao da barra          40      BR  1538694000        78 -21.64  -41.05   \n",
       "1         mandalgovi           0      MN  1538698708        69  45.76  106.27   \n",
       "2          egvekinot          76      RU  1538698708        85  66.32 -179.17   \n",
       "3              basco          90      US  1538698500        67  40.33  -91.20   \n",
       "4              ancud           0      CL  1538698708        63 -41.87  -73.83   \n",
       "\n",
       "   Max_Temp  Wind_Speed  \n",
       "0     77.00       13.87  \n",
       "1     24.60       12.57  \n",
       "2     41.25       11.01  \n",
       "3     62.96        3.36  \n",
       "4     49.35        7.65  "
      ]
     },
     "execution_count": 11,
     "metadata": {},
     "output_type": "execute_result"
    }
   ],
   "source": [
    "weather_dict = {\n",
    "    \"City\": Cities_Present,\n",
    "    \"Cloudiness\":Cloudiness,\n",
    "    \"Country\":Country, \n",
    "    \"Date\":Date, \n",
    "    \"Humidity\":Humidity,   \n",
    "    \"Lat\":Lat,        \n",
    "    \"Lng\":Lng,   \n",
    "    \"Max_Temp\":Max_Temp, \n",
    "    \"Wind_Speed\":Wind_Speed\n",
    "\n",
    "}\n",
    "weather_data = pd.DataFrame(weather_dict)\n",
    "weather_data.head()"
   ]
  },
  {
   "cell_type": "code",
   "execution_count": 12,
   "metadata": {},
   "outputs": [
    {
     "data": {
      "text/plain": [
       "562"
      ]
     },
     "execution_count": 12,
     "metadata": {},
     "output_type": "execute_result"
    }
   ],
   "source": [
    "weather_data[\"City\"].count()"
   ]
  },
  {
   "cell_type": "code",
   "execution_count": 14,
   "metadata": {},
   "outputs": [],
   "source": [
    "weather_data.to_csv(\"Output_Data/cities.csv\", index=False, header=True)"
   ]
  },
  {
   "cell_type": "code",
   "execution_count": null,
   "metadata": {
    "collapsed": true
   },
   "outputs": [],
   "source": []
  },
  {
   "cell_type": "markdown",
   "metadata": {},
   "source": [
    "### Convert Raw Data to DataFrame\n",
    "* Export the city data into a .csv.\n",
    "* Display the DataFrame"
   ]
  },
  {
   "cell_type": "code",
   "execution_count": 43,
   "metadata": {},
   "outputs": [
    {
     "data": {
      "text/plain": [
       "0.59999999999999998"
      ]
     },
     "execution_count": 43,
     "metadata": {},
     "output_type": "execute_result"
    }
   ],
   "source": [
    "weather_data[\"Wind_Speed\"].min()"
   ]
  },
  {
   "cell_type": "code",
   "execution_count": 44,
   "metadata": {},
   "outputs": [
    {
     "data": {
      "text/plain": [
       "40.259999999999998"
      ]
     },
     "execution_count": 44,
     "metadata": {},
     "output_type": "execute_result"
    }
   ],
   "source": [
    "weather_data[\"Wind_Speed\"].max()"
   ]
  },
  {
   "cell_type": "code",
   "execution_count": 17,
   "metadata": {
    "collapsed": true
   },
   "outputs": [],
   "source": [
    "import seaborn as sns"
   ]
  },
  {
   "cell_type": "markdown",
   "metadata": {},
   "source": [
    "### Plotting the Data\n",
    "* Use proper labeling of the plots using plot titles (including date of analysis) and axes labels.\n",
    "* Save the plotted figures as .pngs."
   ]
  },
  {
   "cell_type": "markdown",
   "metadata": {},
   "source": [
    "#### Latitude vs. Temperature Plot"
   ]
  },
  {
   "cell_type": "code",
   "execution_count": 31,
   "metadata": {},
   "outputs": [
    {
     "data": {
      "image/png": "[encoded data removed]",
      "text/plain": [
       "<matplotlib.figure.Figure at 0x11e616208>"
      ]
     },
     "metadata": {},
     "output_type": "display_data"
    },
    {
     "data": {
      "text/plain": [
       "(0, 110)"
      ]
     },
     "execution_count": 31,
     "metadata": {},
     "output_type": "execute_result"
    }
   ],
   "source": [
    "# Build a scatter plot for each data type\n",
    "plt.scatter(weather_data[\"Lat\"], weather_data[\"Max_Temp\"], marker=\"o\")\n",
    "\n",
    "# Incorporate the other graph properties\n",
    "plt.title(\"Latitude vs. Temperature Plot\")\n",
    "plt.ylabel(\"Max Temperature (F)\")\n",
    "plt.xlabel(\"Latitude\")\n",
    "plt.grid(True)\n",
    "\n",
    "# Save the figure\n",
    "plt.savefig(\"Temperature.png\")\n",
    "\n",
    "# Show plot\n",
    "plt.show()\n",
    "\n",
    " \n",
    "\n",
    "\n",
    "plt.tight_layout()\n",
    "plt.xlim(-90, 90)\n",
    "plt.ylim(0, 110)\n"
   ]
  },
  {
   "cell_type": "markdown",
   "metadata": {},
   "source": [
    "#### Latitude vs. Humidity Plot"
   ]
  },
  {
   "cell_type": "code",
   "execution_count": 35,
   "metadata": {},
   "outputs": [
    {
     "data": {
      "image/png": "[encoded data removed]",
      "text/plain": [
       "<matplotlib.figure.Figure at 0x11e733f60>"
      ]
     },
     "metadata": {},
     "output_type": "display_data"
    },
    {
     "data": {
      "text/plain": [
       "(0, 120)"
      ]
     },
     "execution_count": 35,
     "metadata": {},
     "output_type": "execute_result"
    }
   ],
   "source": [
    "# Build a scatter plot for each data type\n",
    "plt.scatter(weather_data[\"Lat\"], weather_data[\"Humidity\"], marker=\"o\")\n",
    "\n",
    "# Incorporate the other graph properties\n",
    "plt.title(\"Latitude vs. Temperature Plot\")\n",
    "plt.ylabel(\"Max Temperature (F)\")\n",
    "plt.xlabel(\"Latitude\")\n",
    "plt.grid(True)\n",
    "\n",
    "# Save the figure\n",
    "plt.savefig(\"Humidity.png\")\n",
    "\n",
    "# Show plot\n",
    "plt.show()\n",
    "\n",
    " \n",
    "\n",
    "\n",
    "plt.tight_layout()\n",
    "plt.xlim(-90, 90)\n",
    "plt.ylim(0, 120)\n"
   ]
  },
  {
   "cell_type": "markdown",
   "metadata": {},
   "source": [
    "#### Latitude vs. Cloudiness Plot"
   ]
  },
  {
   "cell_type": "code",
   "execution_count": 40,
   "metadata": {},
   "outputs": [
    {
     "data": {
      "image/png": "[encoded data removed]",
      "text/plain": [
       "<matplotlib.figure.Figure at 0x1a21b4e438>"
      ]
     },
     "metadata": {},
     "output_type": "display_data"
    },
    {
     "data": {
      "text/plain": [
       "(-10, 120)"
      ]
     },
     "execution_count": 40,
     "metadata": {},
     "output_type": "execute_result"
    }
   ],
   "source": [
    "# Build a scatter plot for each data type\n",
    "plt.scatter(weather_data[\"Lat\"], weather_data[\"Cloudiness\"], marker=\"o\")\n",
    "\n",
    "# Incorporate the other graph properties\n",
    "plt.title(\"Latitude vs. Temperature Plot\")\n",
    "plt.ylabel(\"Max Temperature (F)\")\n",
    "plt.xlabel(\"Latitude\")\n",
    "plt.grid(True)\n",
    "\n",
    "# Save the figure\n",
    "plt.savefig(\"Cloud.png\")\n",
    "\n",
    "# Show plot\n",
    "plt.show()\n",
    "\n",
    " \n",
    "\n",
    "\n",
    "plt.tight_layout()\n",
    "plt.xlim(-90, 90)\n",
    "plt.ylim(-10, 120)\n"
   ]
  },
  {
   "cell_type": "markdown",
   "metadata": {},
   "source": [
    "#### Latitude vs. Wind Speed Plot"
   ]
  },
  {
   "cell_type": "code",
   "execution_count": 47,
   "metadata": {},
   "outputs": [
    {
     "data": {
      "image/png": "[encoded data removed]",
      "text/plain": [
       "<matplotlib.figure.Figure at 0x1a21d0c390>"
      ]
     },
     "metadata": {},
     "output_type": "display_data"
    },
    {
     "data": {
      "text/plain": [
       "(-3, 50)"
      ]
     },
     "execution_count": 47,
     "metadata": {},
     "output_type": "execute_result"
    }
   ],
   "source": [
    "# Build a scatter plot for each data type\n",
    "plt.scatter(weather_data[\"Lat\"], weather_data[\"Wind_Speed\"], marker=\"o\")\n",
    "\n",
    "# Incorporate the other graph properties\n",
    "plt.title(\"Latitude vs. Temperature Plot\")\n",
    "plt.ylabel(\"Max Temperature (F)\")\n",
    "plt.xlabel(\"Latitude\")\n",
    "plt.grid(True)\n",
    "\n",
    "# Save the figure\n",
    "plt.savefig(\"Wind_Speed.png\")\n",
    "\n",
    "# Show plot\n",
    "plt.show()\n",
    "\n",
    " \n",
    "\n",
    "\n",
    "plt.tight_layout()\n",
    "plt.xlim(-90, 90)\n",
    "plt.ylim(-3, 50)"
   ]
  },
  {
   "cell_type": "code",
   "execution_count": null,
   "metadata": {
    "collapsed": true
   },
   "outputs": [],
   "source": []
  },
  {
   "cell_type": "code",
   "execution_count": null,
   "metadata": {
    "collapsed": true
   },
   "outputs": [],
   "source": []
  }
 ],
 "metadata": {
  "anaconda-cloud": {},
  "kernelspec": {
   "display_name": "Python 3",
   "language": "python",
   "name": "python3"
  },
  "language_info": {
   "codemirror_mode": {
    "name": "ipython",
    "version": 3
   },
   "file_extension": ".py",
   "mimetype": "text/x-python",
   "name": "python",
   "nbconvert_exporter": "python",
   "pygments_lexer": "ipython3",
   "version": "3.6.3"
  }
 },
 "nbformat": 4,
 "nbformat_minor": 2
}
